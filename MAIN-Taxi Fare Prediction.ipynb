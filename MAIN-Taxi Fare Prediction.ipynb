{
 "cells": [
  {
   "cell_type": "code",
   "execution_count": 1,
   "id": "1e603303",
   "metadata": {},
   "outputs": [],
   "source": [
    "import pandas as pd\n",
    "import matplotlib.pyplot as plt\n",
    "import seaborn as sb\n",
    "import sklearn\n",
    "import pandas as pd\n",
    "from sklearn.model_selection import train_test_split\n",
    "import numpy as np"
   ]
  },
  {
   "cell_type": "code",
   "execution_count": 2,
   "id": "899890d3",
   "metadata": {},
   "outputs": [
    {
     "data": {
      "text/html": [
       "<div>\n",
       "<style scoped>\n",
       "    .dataframe tbody tr th:only-of-type {\n",
       "        vertical-align: middle;\n",
       "    }\n",
       "\n",
       "    .dataframe tbody tr th {\n",
       "        vertical-align: top;\n",
       "    }\n",
       "\n",
       "    .dataframe thead th {\n",
       "        text-align: right;\n",
       "    }\n",
       "</style>\n",
       "<table border=\"1\" class=\"dataframe\">\n",
       "  <thead>\n",
       "    <tr style=\"text-align: right;\">\n",
       "      <th></th>\n",
       "      <th>VendorID</th>\n",
       "      <th>tpep_pickup_datetime</th>\n",
       "      <th>tpep_dropoff_datetime</th>\n",
       "      <th>passenger_count</th>\n",
       "      <th>trip_distance</th>\n",
       "      <th>RatecodeID</th>\n",
       "      <th>store_and_fwd_flag</th>\n",
       "      <th>PULocationID</th>\n",
       "      <th>DOLocationID</th>\n",
       "      <th>payment_type</th>\n",
       "      <th>fare_amount</th>\n",
       "      <th>congestion_surcharge</th>\n",
       "    </tr>\n",
       "  </thead>\n",
       "  <tbody>\n",
       "    <tr>\n",
       "      <th>0</th>\n",
       "      <td>2.0</td>\n",
       "      <td>2020-06-10 13:36:49</td>\n",
       "      <td>2020-06-10 13:51:08</td>\n",
       "      <td>1.0</td>\n",
       "      <td>2.73</td>\n",
       "      <td>1.0</td>\n",
       "      <td>N</td>\n",
       "      <td>224</td>\n",
       "      <td>148</td>\n",
       "      <td>2.0</td>\n",
       "      <td>12.00</td>\n",
       "      <td>2.5</td>\n",
       "    </tr>\n",
       "    <tr>\n",
       "      <th>1</th>\n",
       "      <td>NaN</td>\n",
       "      <td>2020-06-13 06:19:00</td>\n",
       "      <td>2020-06-13 06:37:00</td>\n",
       "      <td>NaN</td>\n",
       "      <td>11.58</td>\n",
       "      <td>NaN</td>\n",
       "      <td>NaN</td>\n",
       "      <td>56</td>\n",
       "      <td>42</td>\n",
       "      <td>NaN</td>\n",
       "      <td>28.81</td>\n",
       "      <td>0.0</td>\n",
       "    </tr>\n",
       "    <tr>\n",
       "      <th>2</th>\n",
       "      <td>2.0</td>\n",
       "      <td>2020-06-20 07:59:23</td>\n",
       "      <td>2020-06-20 08:05:39</td>\n",
       "      <td>1.0</td>\n",
       "      <td>2.05</td>\n",
       "      <td>1.0</td>\n",
       "      <td>N</td>\n",
       "      <td>79</td>\n",
       "      <td>68</td>\n",
       "      <td>2.0</td>\n",
       "      <td>8.00</td>\n",
       "      <td>2.5</td>\n",
       "    </tr>\n",
       "    <tr>\n",
       "      <th>3</th>\n",
       "      <td>1.0</td>\n",
       "      <td>2020-06-27 15:11:32</td>\n",
       "      <td>2020-06-27 15:15:02</td>\n",
       "      <td>1.0</td>\n",
       "      <td>1.40</td>\n",
       "      <td>1.0</td>\n",
       "      <td>N</td>\n",
       "      <td>236</td>\n",
       "      <td>75</td>\n",
       "      <td>1.0</td>\n",
       "      <td>6.00</td>\n",
       "      <td>2.5</td>\n",
       "    </tr>\n",
       "    <tr>\n",
       "      <th>4</th>\n",
       "      <td>1.0</td>\n",
       "      <td>2020-06-26 16:00:36</td>\n",
       "      <td>2020-06-26 16:02:28</td>\n",
       "      <td>1.0</td>\n",
       "      <td>0.60</td>\n",
       "      <td>1.0</td>\n",
       "      <td>N</td>\n",
       "      <td>186</td>\n",
       "      <td>90</td>\n",
       "      <td>2.0</td>\n",
       "      <td>4.00</td>\n",
       "      <td>2.5</td>\n",
       "    </tr>\n",
       "  </tbody>\n",
       "</table>\n",
       "</div>"
      ],
      "text/plain": [
       "   VendorID tpep_pickup_datetime tpep_dropoff_datetime  passenger_count  \\\n",
       "0       2.0  2020-06-10 13:36:49   2020-06-10 13:51:08              1.0   \n",
       "1       NaN  2020-06-13 06:19:00   2020-06-13 06:37:00              NaN   \n",
       "2       2.0  2020-06-20 07:59:23   2020-06-20 08:05:39              1.0   \n",
       "3       1.0  2020-06-27 15:11:32   2020-06-27 15:15:02              1.0   \n",
       "4       1.0  2020-06-26 16:00:36   2020-06-26 16:02:28              1.0   \n",
       "\n",
       "   trip_distance  RatecodeID store_and_fwd_flag  PULocationID  DOLocationID  \\\n",
       "0           2.73         1.0                  N           224           148   \n",
       "1          11.58         NaN                NaN            56            42   \n",
       "2           2.05         1.0                  N            79            68   \n",
       "3           1.40         1.0                  N           236            75   \n",
       "4           0.60         1.0                  N           186            90   \n",
       "\n",
       "   payment_type  fare_amount  congestion_surcharge  \n",
       "0           2.0        12.00                   2.5  \n",
       "1           NaN        28.81                   0.0  \n",
       "2           2.0         8.00                   2.5  \n",
       "3           1.0         6.00                   2.5  \n",
       "4           2.0         4.00                   2.5  "
      ]
     },
     "execution_count": 2,
     "metadata": {},
     "output_type": "execute_result"
    }
   ],
   "source": [
    "train_data= pd.read_csv('train_data_iitm.csv')   \n",
    "train_data.head()"
   ]
  },
  {
   "cell_type": "code",
   "execution_count": 3,
   "id": "0991eebd",
   "metadata": {},
   "outputs": [
    {
     "data": {
      "text/html": [
       "<div>\n",
       "<style scoped>\n",
       "    .dataframe tbody tr th:only-of-type {\n",
       "        vertical-align: middle;\n",
       "    }\n",
       "\n",
       "    .dataframe tbody tr th {\n",
       "        vertical-align: top;\n",
       "    }\n",
       "\n",
       "    .dataframe thead th {\n",
       "        text-align: right;\n",
       "    }\n",
       "</style>\n",
       "<table border=\"1\" class=\"dataframe\">\n",
       "  <thead>\n",
       "    <tr style=\"text-align: right;\">\n",
       "      <th></th>\n",
       "      <th>VendorID</th>\n",
       "      <th>passenger_count</th>\n",
       "      <th>trip_distance</th>\n",
       "      <th>RatecodeID</th>\n",
       "      <th>PULocationID</th>\n",
       "      <th>DOLocationID</th>\n",
       "      <th>payment_type</th>\n",
       "      <th>fare_amount</th>\n",
       "      <th>congestion_surcharge</th>\n",
       "    </tr>\n",
       "  </thead>\n",
       "  <tbody>\n",
       "    <tr>\n",
       "      <th>count</th>\n",
       "      <td>54365.000000</td>\n",
       "      <td>54365.000000</td>\n",
       "      <td>60000.000000</td>\n",
       "      <td>54365.000000</td>\n",
       "      <td>60000.000000</td>\n",
       "      <td>60000.000000</td>\n",
       "      <td>54365.000000</td>\n",
       "      <td>60000.000000</td>\n",
       "      <td>60000.000000</td>\n",
       "    </tr>\n",
       "    <tr>\n",
       "      <th>mean</th>\n",
       "      <td>1.597554</td>\n",
       "      <td>1.353702</td>\n",
       "      <td>3.368568</td>\n",
       "      <td>1.047383</td>\n",
       "      <td>157.733683</td>\n",
       "      <td>153.572183</td>\n",
       "      <td>1.373604</td>\n",
       "      <td>13.626738</td>\n",
       "      <td>1.965417</td>\n",
       "    </tr>\n",
       "    <tr>\n",
       "      <th>std</th>\n",
       "      <td>0.490395</td>\n",
       "      <td>1.012809</td>\n",
       "      <td>4.323149</td>\n",
       "      <td>1.078021</td>\n",
       "      <td>69.510520</td>\n",
       "      <td>73.940982</td>\n",
       "      <td>0.532802</td>\n",
       "      <td>13.454365</td>\n",
       "      <td>1.048347</td>\n",
       "    </tr>\n",
       "    <tr>\n",
       "      <th>min</th>\n",
       "      <td>1.000000</td>\n",
       "      <td>0.000000</td>\n",
       "      <td>0.000000</td>\n",
       "      <td>1.000000</td>\n",
       "      <td>1.000000</td>\n",
       "      <td>1.000000</td>\n",
       "      <td>1.000000</td>\n",
       "      <td>-149.000000</td>\n",
       "      <td>-2.500000</td>\n",
       "    </tr>\n",
       "    <tr>\n",
       "      <th>25%</th>\n",
       "      <td>1.000000</td>\n",
       "      <td>1.000000</td>\n",
       "      <td>1.010000</td>\n",
       "      <td>1.000000</td>\n",
       "      <td>107.000000</td>\n",
       "      <td>87.000000</td>\n",
       "      <td>1.000000</td>\n",
       "      <td>6.000000</td>\n",
       "      <td>2.500000</td>\n",
       "    </tr>\n",
       "    <tr>\n",
       "      <th>50%</th>\n",
       "      <td>2.000000</td>\n",
       "      <td>1.000000</td>\n",
       "      <td>1.850000</td>\n",
       "      <td>1.000000</td>\n",
       "      <td>151.000000</td>\n",
       "      <td>151.000000</td>\n",
       "      <td>1.000000</td>\n",
       "      <td>9.000000</td>\n",
       "      <td>2.500000</td>\n",
       "    </tr>\n",
       "    <tr>\n",
       "      <th>75%</th>\n",
       "      <td>2.000000</td>\n",
       "      <td>1.000000</td>\n",
       "      <td>3.670000</td>\n",
       "      <td>1.000000</td>\n",
       "      <td>234.000000</td>\n",
       "      <td>233.000000</td>\n",
       "      <td>2.000000</td>\n",
       "      <td>15.500000</td>\n",
       "      <td>2.500000</td>\n",
       "    </tr>\n",
       "    <tr>\n",
       "      <th>max</th>\n",
       "      <td>2.000000</td>\n",
       "      <td>6.000000</td>\n",
       "      <td>114.300000</td>\n",
       "      <td>99.000000</td>\n",
       "      <td>265.000000</td>\n",
       "      <td>265.000000</td>\n",
       "      <td>5.000000</td>\n",
       "      <td>400.000000</td>\n",
       "      <td>2.500000</td>\n",
       "    </tr>\n",
       "  </tbody>\n",
       "</table>\n",
       "</div>"
      ],
      "text/plain": [
       "           VendorID  passenger_count  trip_distance    RatecodeID  \\\n",
       "count  54365.000000     54365.000000   60000.000000  54365.000000   \n",
       "mean       1.597554         1.353702       3.368568      1.047383   \n",
       "std        0.490395         1.012809       4.323149      1.078021   \n",
       "min        1.000000         0.000000       0.000000      1.000000   \n",
       "25%        1.000000         1.000000       1.010000      1.000000   \n",
       "50%        2.000000         1.000000       1.850000      1.000000   \n",
       "75%        2.000000         1.000000       3.670000      1.000000   \n",
       "max        2.000000         6.000000     114.300000     99.000000   \n",
       "\n",
       "       PULocationID  DOLocationID  payment_type   fare_amount  \\\n",
       "count  60000.000000  60000.000000  54365.000000  60000.000000   \n",
       "mean     157.733683    153.572183      1.373604     13.626738   \n",
       "std       69.510520     73.940982      0.532802     13.454365   \n",
       "min        1.000000      1.000000      1.000000   -149.000000   \n",
       "25%      107.000000     87.000000      1.000000      6.000000   \n",
       "50%      151.000000    151.000000      1.000000      9.000000   \n",
       "75%      234.000000    233.000000      2.000000     15.500000   \n",
       "max      265.000000    265.000000      5.000000    400.000000   \n",
       "\n",
       "       congestion_surcharge  \n",
       "count          60000.000000  \n",
       "mean               1.965417  \n",
       "std                1.048347  \n",
       "min               -2.500000  \n",
       "25%                2.500000  \n",
       "50%                2.500000  \n",
       "75%                2.500000  \n",
       "max                2.500000  "
      ]
     },
     "execution_count": 3,
     "metadata": {},
     "output_type": "execute_result"
    }
   ],
   "source": [
    "train_data.describe()"
   ]
  },
  {
   "cell_type": "code",
   "execution_count": 4,
   "id": "45d637ca",
   "metadata": {},
   "outputs": [
    {
     "data": {
      "text/plain": [
       "VendorID                 5635\n",
       "tpep_pickup_datetime        0\n",
       "tpep_dropoff_datetime       0\n",
       "passenger_count          5635\n",
       "trip_distance               0\n",
       "RatecodeID               5635\n",
       "store_and_fwd_flag       5635\n",
       "PULocationID                0\n",
       "DOLocationID                0\n",
       "payment_type             5635\n",
       "fare_amount                 0\n",
       "congestion_surcharge        0\n",
       "dtype: int64"
      ]
     },
     "execution_count": 4,
     "metadata": {},
     "output_type": "execute_result"
    }
   ],
   "source": [
    "train_data.isnull().sum()"
   ]
  },
  {
   "cell_type": "code",
   "execution_count": 5,
   "id": "334ed6f9",
   "metadata": {},
   "outputs": [
    {
     "name": "stdout",
     "output_type": "stream",
     "text": [
      "294\n"
     ]
    }
   ],
   "source": [
    "print(len(train_data.loc[train_data.fare_amount <0]))\n",
    "train_data = train_data.loc[train_data.fare_amount >0]"
   ]
  },
  {
   "cell_type": "code",
   "execution_count": 6,
   "id": "be4ebb3d",
   "metadata": {},
   "outputs": [],
   "source": [
    "train_data = train_data.loc[train_data.congestion_surcharge >=0.0]"
   ]
  },
  {
   "cell_type": "code",
   "execution_count": 7,
   "id": "24808931",
   "metadata": {},
   "outputs": [],
   "source": [
    "train_data = train_data.loc[train_data.RatecodeID <= 6 ]"
   ]
  },
  {
   "cell_type": "code",
   "execution_count": 8,
   "id": "e55ec6f0",
   "metadata": {},
   "outputs": [
    {
     "data": {
      "text/plain": [
       "VendorID                 0\n",
       "tpep_pickup_datetime     0\n",
       "tpep_dropoff_datetime    0\n",
       "passenger_count          0\n",
       "trip_distance            0\n",
       "RatecodeID               0\n",
       "store_and_fwd_flag       0\n",
       "PULocationID             0\n",
       "DOLocationID             0\n",
       "payment_type             0\n",
       "fare_amount              0\n",
       "congestion_surcharge     0\n",
       "dtype: int64"
      ]
     },
     "execution_count": 8,
     "metadata": {},
     "output_type": "execute_result"
    }
   ],
   "source": [
    "train_data.isnull().sum()"
   ]
  },
  {
   "cell_type": "code",
   "execution_count": 9,
   "id": "f694e23a",
   "metadata": {},
   "outputs": [
    {
     "data": {
      "text/plain": [
       "(54043, 12)"
      ]
     },
     "execution_count": 9,
     "metadata": {},
     "output_type": "execute_result"
    }
   ],
   "source": [
    "train_data.shape"
   ]
  },
  {
   "cell_type": "markdown",
   "id": "14090ffd",
   "metadata": {},
   "source": [
    "Around 300 row data where removed, which is 0.6% of the total rows "
   ]
  },
  {
   "cell_type": "code",
   "execution_count": 10,
   "id": "8fde0cee",
   "metadata": {},
   "outputs": [],
   "source": [
    "train_data = train_data.drop('store_and_fwd_flag',axis=1)\n",
    "train_data = train_data.drop('VendorID',axis=1)"
   ]
  },
  {
   "cell_type": "code",
   "execution_count": 15,
   "id": "d79c6083",
   "metadata": {},
   "outputs": [],
   "source": [
    "def time_features_pickup(df,time_col):                                  \n",
    "    df[time_col] = pd.to_datetime(df[time_col])\n",
    "    df['dayofweek'] = pd.to_datetime(df[time_col]).dt.dayofweek\n",
    "    df['month'] = pd.to_datetime(df[time_col]).dt.month\n",
    "    df['pickup_hour'] = pd.to_datetime(df[time_col]).dt.hour\n",
    "    df['pickup_minute'] = pd.to_datetime(df[time_col]).dt.minute\n",
    "    return df\n",
    "\n",
    "def time_features_drop(df,time_col):\n",
    "    df[time_col] = pd.to_datetime(df[time_col])\n",
    "    df['drop_hour'] = pd.to_datetime(df[time_col]).dt.hour\n",
    "    df['drop_minute'] = pd.to_datetime(df[time_col]).dt.minute\n",
    "    return df\n",
    "\n",
    "def time_difference(df):\n",
    "    df['time_in_minutes'] = 60*(df['drop_hour']-df['pickup_hour'])+(df['drop_minute']-df['pickup_minute'])\n",
    "    f=['pickup_hour','pickup_minute','drop_hour','drop_minute']\n",
    "    df = df.drop(f,axis=1)\n",
    "    return df"
   ]
  },
  {
   "cell_type": "code",
   "execution_count": 20,
   "id": "aeebb1f2",
   "metadata": {},
   "outputs": [],
   "source": [
    "train_data = time_features_pickup(train_data,'tpep_pickup_datetime')\n",
    "train_data = time_features_drop(train_data,'tpep_dropoff_datetime')\n",
    "train_data = time_difference(train_data)\n",
    "train_data = train_data.drop(['tpep_pickup_datetime','tpep_dropoff_datetime'],axis=1)"
   ]
  },
  {
   "cell_type": "code",
   "execution_count": 21,
   "id": "d3210420",
   "metadata": {},
   "outputs": [
    {
     "data": {
      "text/plain": [
       "(54043, 11)"
      ]
     },
     "execution_count": 21,
     "metadata": {},
     "output_type": "execute_result"
    }
   ],
   "source": [
    "train_data.shape"
   ]
  },
  {
   "cell_type": "code",
   "execution_count": 22,
   "id": "0d0d8180",
   "metadata": {},
   "outputs": [
    {
     "data": {
      "text/html": [
       "<div>\n",
       "<style scoped>\n",
       "    .dataframe tbody tr th:only-of-type {\n",
       "        vertical-align: middle;\n",
       "    }\n",
       "\n",
       "    .dataframe tbody tr th {\n",
       "        vertical-align: top;\n",
       "    }\n",
       "\n",
       "    .dataframe thead th {\n",
       "        text-align: right;\n",
       "    }\n",
       "</style>\n",
       "<table border=\"1\" class=\"dataframe\">\n",
       "  <thead>\n",
       "    <tr style=\"text-align: right;\">\n",
       "      <th></th>\n",
       "      <th>passenger_count</th>\n",
       "      <th>trip_distance</th>\n",
       "      <th>RatecodeID</th>\n",
       "      <th>PULocationID</th>\n",
       "      <th>DOLocationID</th>\n",
       "      <th>payment_type</th>\n",
       "      <th>fare_amount</th>\n",
       "      <th>congestion_surcharge</th>\n",
       "      <th>dayofweek</th>\n",
       "      <th>month</th>\n",
       "      <th>time_in_minutes</th>\n",
       "    </tr>\n",
       "  </thead>\n",
       "  <tbody>\n",
       "    <tr>\n",
       "      <th>0</th>\n",
       "      <td>1.0</td>\n",
       "      <td>2.73</td>\n",
       "      <td>1.0</td>\n",
       "      <td>224</td>\n",
       "      <td>148</td>\n",
       "      <td>2.0</td>\n",
       "      <td>12.0</td>\n",
       "      <td>2.5</td>\n",
       "      <td>2</td>\n",
       "      <td>6</td>\n",
       "      <td>15</td>\n",
       "    </tr>\n",
       "    <tr>\n",
       "      <th>2</th>\n",
       "      <td>1.0</td>\n",
       "      <td>2.05</td>\n",
       "      <td>1.0</td>\n",
       "      <td>79</td>\n",
       "      <td>68</td>\n",
       "      <td>2.0</td>\n",
       "      <td>8.0</td>\n",
       "      <td>2.5</td>\n",
       "      <td>5</td>\n",
       "      <td>6</td>\n",
       "      <td>6</td>\n",
       "    </tr>\n",
       "    <tr>\n",
       "      <th>3</th>\n",
       "      <td>1.0</td>\n",
       "      <td>1.40</td>\n",
       "      <td>1.0</td>\n",
       "      <td>236</td>\n",
       "      <td>75</td>\n",
       "      <td>1.0</td>\n",
       "      <td>6.0</td>\n",
       "      <td>2.5</td>\n",
       "      <td>5</td>\n",
       "      <td>6</td>\n",
       "      <td>4</td>\n",
       "    </tr>\n",
       "    <tr>\n",
       "      <th>4</th>\n",
       "      <td>1.0</td>\n",
       "      <td>0.60</td>\n",
       "      <td>1.0</td>\n",
       "      <td>186</td>\n",
       "      <td>90</td>\n",
       "      <td>2.0</td>\n",
       "      <td>4.0</td>\n",
       "      <td>2.5</td>\n",
       "      <td>4</td>\n",
       "      <td>6</td>\n",
       "      <td>2</td>\n",
       "    </tr>\n",
       "    <tr>\n",
       "      <th>5</th>\n",
       "      <td>1.0</td>\n",
       "      <td>4.00</td>\n",
       "      <td>1.0</td>\n",
       "      <td>137</td>\n",
       "      <td>236</td>\n",
       "      <td>1.0</td>\n",
       "      <td>15.0</td>\n",
       "      <td>2.5</td>\n",
       "      <td>2</td>\n",
       "      <td>6</td>\n",
       "      <td>13</td>\n",
       "    </tr>\n",
       "  </tbody>\n",
       "</table>\n",
       "</div>"
      ],
      "text/plain": [
       "   passenger_count  trip_distance  RatecodeID  PULocationID  DOLocationID  \\\n",
       "0              1.0           2.73         1.0           224           148   \n",
       "2              1.0           2.05         1.0            79            68   \n",
       "3              1.0           1.40         1.0           236            75   \n",
       "4              1.0           0.60         1.0           186            90   \n",
       "5              1.0           4.00         1.0           137           236   \n",
       "\n",
       "   payment_type  fare_amount  congestion_surcharge  dayofweek  month  \\\n",
       "0           2.0         12.0                   2.5          2      6   \n",
       "2           2.0          8.0                   2.5          5      6   \n",
       "3           1.0          6.0                   2.5          5      6   \n",
       "4           2.0          4.0                   2.5          4      6   \n",
       "5           1.0         15.0                   2.5          2      6   \n",
       "\n",
       "   time_in_minutes  \n",
       "0               15  \n",
       "2                6  \n",
       "3                4  \n",
       "4                2  \n",
       "5               13  "
      ]
     },
     "execution_count": 22,
     "metadata": {},
     "output_type": "execute_result"
    }
   ],
   "source": [
    "train_data.head()"
   ]
  },
  {
   "cell_type": "markdown",
   "id": "374d1fb2",
   "metadata": {},
   "source": [
    "# Checking for Outliers"
   ]
  },
  {
   "cell_type": "code",
   "execution_count": 23,
   "id": "fcb53e40",
   "metadata": {},
   "outputs": [
    {
     "name": "stderr",
     "output_type": "stream",
     "text": [
      "C:\\Users\\tanur\\anaconda3\\lib\\site-packages\\seaborn\\distributions.py:2557: FutureWarning: `distplot` is a deprecated function and will be removed in a future version. Please adapt your code to use either `displot` (a figure-level function with similar flexibility) or `histplot` (an axes-level function for histograms).\n",
      "  warnings.warn(msg, FutureWarning)\n"
     ]
    },
    {
     "data": {
      "image/png": "[encoded data removed]",
      "text/plain": [
       "<Figure size 1152x360 with 1 Axes>"
      ]
     },
     "metadata": {
      "needs_background": "light"
     },
     "output_type": "display_data"
    }
   ],
   "source": [
    "plt.figure(figsize=(16,5))\n",
    "plt.subplot(1,2,2)\n",
    "sb.distplot(train_data['fare_amount'])\n",
    "plt.show()"
   ]
  },
  {
   "cell_type": "code",
   "execution_count": 25,
   "id": "d0b0de28",
   "metadata": {},
   "outputs": [
    {
     "name": "stderr",
     "output_type": "stream",
     "text": [
      "C:\\Users\\tanur\\anaconda3\\lib\\site-packages\\seaborn\\_decorators.py:36: FutureWarning: Pass the following variable as a keyword arg: x. From version 0.12, the only valid positional argument will be `data`, and passing other arguments without an explicit keyword will result in an error or misinterpretation.\n",
      "  warnings.warn(\n"
     ]
    },
    {
     "data": {
      "text/plain": [
       "<AxesSubplot:xlabel='fare_amount'>"
      ]
     },
     "execution_count": 25,
     "metadata": {},
     "output_type": "execute_result"
    },
    {
     "data": {
      "image/png": "[encoded data removed]",
      "text/plain": [
       "<Figure size 432x288 with 1 Axes>"
      ]
     },
     "metadata": {
      "needs_background": "light"
     },
     "output_type": "display_data"
    }
   ],
   "source": [
    "sb.boxplot(train_data['fare_amount'])"
   ]
  },
  {
   "cell_type": "code",
   "execution_count": 26,
   "id": "814dea50",
   "metadata": {},
   "outputs": [],
   "source": [
    "percentile25 = train_data['fare_amount'].quantile(0.25)\n",
    "percentile75 = train_data['fare_amount'].quantile(0.75)\n",
    "iqr = percentile75-percentile25\n",
    "upper_limit = percentile75 + 1.5 * iqr\n",
    "lower_limit = percentile25 - 1.5 * iqr"
   ]
  },
  {
   "cell_type": "code",
   "execution_count": 28,
   "id": "ba320e33",
   "metadata": {},
   "outputs": [
    {
     "data": {
      "text/plain": [
       "4758"
      ]
     },
     "execution_count": 28,
     "metadata": {},
     "output_type": "execute_result"
    }
   ],
   "source": [
    "df_train = train_data[train_data['fare_amount'] < upper_limit]\n",
    "train_data.shape[0]-df_train.shape[0]"
   ]
  },
  {
   "cell_type": "code",
   "execution_count": 54,
   "id": "b7e2b132",
   "metadata": {},
   "outputs": [
    {
     "name": "stderr",
     "output_type": "stream",
     "text": [
      "C:\\Users\\tanur\\anaconda3\\lib\\site-packages\\seaborn\\distributions.py:2557: FutureWarning: `distplot` is a deprecated function and will be removed in a future version. Please adapt your code to use either `displot` (a figure-level function with similar flexibility) or `histplot` (an axes-level function for histograms).\n",
      "  warnings.warn(msg, FutureWarning)\n",
      "C:\\Users\\tanur\\anaconda3\\lib\\site-packages\\seaborn\\distributions.py:2557: FutureWarning: `distplot` is a deprecated function and will be removed in a future version. Please adapt your code to use either `displot` (a figure-level function with similar flexibility) or `histplot` (an axes-level function for histograms).\n",
      "  warnings.warn(msg, FutureWarning)\n"
     ]
    },
    {
     "data": {
      "image/png": "[encoded data removed]",
      "text/plain": [
       "<Figure size 1152x576 with 2 Axes>"
      ]
     },
     "metadata": {
      "needs_background": "light"
     },
     "output_type": "display_data"
    }
   ],
   "source": [
    "plt.figure(figsize=(16,8))\n",
    "plt.subplot(2,2,1)\n",
    "sb.distplot(train_data['fare_amount'])\n",
    "plt.subplot(2,2,2)\n",
    "sb.distplot(df_train['fare_amount'])\n",
    "plt.show()"
   ]
  },
  {
   "cell_type": "code",
   "execution_count": 41,
   "id": "bd2cec04",
   "metadata": {},
   "outputs": [],
   "source": [
    "y = df_train[\"fare_amount\"]\n",
    "x = df_train.drop([\"fare_amount\"],axis = 1)"
   ]
  },
  {
   "cell_type": "code",
   "execution_count": 42,
   "id": "13e3f0ca",
   "metadata": {},
   "outputs": [
    {
     "data": {
      "text/plain": [
       "<AxesSubplot:>"
      ]
     },
     "execution_count": 42,
     "metadata": {},
     "output_type": "execute_result"
    },
    {
     "data": {
      "image/png": "[encoded data removed]",
      "text/plain": [
       "<Figure size 1440x720 with 2 Axes>"
      ]
     },
     "metadata": {
      "needs_background": "light"
     },
     "output_type": "display_data"
    }
   ],
   "source": [
    "pearson_corr = x.corr()\n",
    "plt.figure(figsize = (20,10))\n",
    "sb.heatmap(data = pearson_corr, cmap = \"Reds\", annot = True)"
   ]
  },
  {
   "cell_type": "markdown",
   "id": "f70282ed",
   "metadata": {},
   "source": [
    "# Comparing Different Models"
   ]
  },
  {
   "cell_type": "code",
   "execution_count": 43,
   "id": "149092fb",
   "metadata": {},
   "outputs": [],
   "source": [
    "import sklearn\n",
    "import pandas as pd\n",
    "from sklearn.model_selection import train_test_split\n",
    "import numpy as np\n",
    "from sklearn.metrics import accuracy_score\n",
    "from sklearn.metrics import mean_squared_error as mse"
   ]
  },
  {
   "cell_type": "code",
   "execution_count": 45,
   "id": "3cedc25d",
   "metadata": {},
   "outputs": [],
   "source": [
    "x_train,x_test,y_train,y_test = train_test_split(x,y,test_size=0.2,random_state=0)"
   ]
  },
  {
   "cell_type": "markdown",
   "id": "ce772c21",
   "metadata": {},
   "source": [
    "# Linear Regression"
   ]
  },
  {
   "cell_type": "code",
   "execution_count": 46,
   "id": "8c975896",
   "metadata": {},
   "outputs": [
    {
     "name": "stdout",
     "output_type": "stream",
     "text": [
      "LinearRegression:\n",
      "Train Accuracy: 0.8273174080642185\n",
      "Test Accuracy: 0.836764496645138\n",
      "Root Mean squared error: 1.8853312625549403 \n",
      "\n"
     ]
    }
   ],
   "source": [
    "from sklearn.linear_model import LinearRegression\n",
    "lr=LinearRegression(normalize=True)\n",
    "lr.fit(x_train,y_train)\n",
    "y_pred = lr.predict(x_test)\n",
    "print(\"LinearRegression:\")\n",
    "print(\"Train Accuracy:\",lr.score(x_train,y_train))\n",
    "print(\"Test Accuracy:\",lr.score(x_test,y_test))\n",
    "print(\"Root Mean squared error:\",mse(y_test, y_pred,squared=False),\"\\n\")"
   ]
  },
  {
   "cell_type": "markdown",
   "id": "63cd9d4a",
   "metadata": {},
   "source": [
    "# Lasso"
   ]
  },
  {
   "cell_type": "code",
   "execution_count": 47,
   "id": "b01d2688",
   "metadata": {},
   "outputs": [
    {
     "name": "stdout",
     "output_type": "stream",
     "text": [
      "Lasso:\n",
      "Train Accuracy: 0.820392987584516\n",
      "Test Accuracy: 0.8327603440958107\n",
      "Root Mean squared error: 1.9083146762553744 \n",
      "\n"
     ]
    }
   ],
   "source": [
    "from sklearn import linear_model\n",
    "reg = linear_model.Lasso(alpha=0.1)\n",
    "reg.fit(x_train,y_train)\n",
    "y_pred = reg.predict(x_test)\n",
    "print(\"Lasso:\")\n",
    "print(\"Train Accuracy:\",reg.score(x_train,y_train))\n",
    "print(\"Test Accuracy:\",reg.score(x_test,y_test))\n",
    "print(\"Root Mean squared error:\",mse(y_test, y_pred,squared=False),\"\\n\")"
   ]
  },
  {
   "cell_type": "markdown",
   "id": "27d01329",
   "metadata": {},
   "source": [
    "# Decision Tree"
   ]
  },
  {
   "cell_type": "code",
   "execution_count": 48,
   "id": "5274b012",
   "metadata": {},
   "outputs": [
    {
     "name": "stdout",
     "output_type": "stream",
     "text": [
      "DecisionTreeRegressor:\n",
      "Train Accuracy: 0.9998510473325656\n",
      "Test Accuracy: 0.959479868714645\n",
      "Root Mean squared error: 0.939324780254914 \n",
      "\n"
     ]
    }
   ],
   "source": [
    "from sklearn import tree\n",
    "clf = tree.DecisionTreeRegressor()\n",
    "clf.fit(x_train,y_train)\n",
    "y_pred = clf.predict(x_test)\n",
    "print(\"DecisionTreeRegressor:\")\n",
    "print(\"Train Accuracy:\",clf.score(x_train,y_train))\n",
    "print(\"Test Accuracy:\",clf.score(x_test,y_test))\n",
    "print(\"Root Mean squared error:\",mse(y_test, y_pred,squared=False),\"\\n\")"
   ]
  },
  {
   "cell_type": "markdown",
   "id": "2c665b99",
   "metadata": {},
   "source": [
    "# Random Forest"
   ]
  },
  {
   "cell_type": "code",
   "execution_count": 49,
   "id": "43608102",
   "metadata": {},
   "outputs": [
    {
     "name": "stdout",
     "output_type": "stream",
     "text": [
      "RandomForestRegressor:\n",
      "Train Accuracy: 0.9967248581032263\n",
      "Test Accuracy: 0.9776695004465302\n",
      "Train Root Mean squared error: 0.26886416908478816\n",
      "Test Root Mean squared error: 0.697315914557406 \n",
      "\n"
     ]
    }
   ],
   "source": [
    "from sklearn.ensemble import RandomForestRegressor\n",
    "reg2 = RandomForestRegressor(random_state=1)\n",
    "reg2.fit(x_train,y_train)\n",
    "y_pred_train=reg2.predict(x_train)\n",
    "y_pred = reg2.predict(x_test)\n",
    "print(\"RandomForestRegressor:\")\n",
    "print(\"Train Accuracy:\",reg2.score(x_train,y_train))\n",
    "print(\"Test Accuracy:\",reg2.score(x_test,y_test))\n",
    "print(\"Train Root Mean squared error:\",mse(y_train, y_pred_train,squared=False))\n",
    "print(\"Test Root Mean squared error:\",mse(y_test, y_pred,squared=False),\"\\n\")"
   ]
  },
  {
   "cell_type": "markdown",
   "id": "a43e3ac9",
   "metadata": {},
   "source": [
    "# Gradient Boosting"
   ]
  },
  {
   "cell_type": "code",
   "execution_count": 50,
   "id": "66f5f5f7",
   "metadata": {},
   "outputs": [
    {
     "name": "stdout",
     "output_type": "stream",
     "text": [
      "GradientBoostingRegressor:\n",
      "Train Accuracy: 0.9812449585609005\n",
      "Test Accuracy: 0.9771487325291277\n",
      "Train Root Mean squared error: 0.6433938159504754\n",
      "Test Root Mean squared error: 0.7054000798996618\n"
     ]
    }
   ],
   "source": [
    "from sklearn.ensemble import GradientBoostingRegressor\n",
    "reg1 = GradientBoostingRegressor()\n",
    "reg1.fit(x_train,y_train)\n",
    "y_pred_train=reg1.predict(x_train)\n",
    "y_pred = reg1.predict(x_test)\n",
    "print(\"GradientBoostingRegressor:\")\n",
    "print(\"Train Accuracy:\",reg1.score(x_train,y_train))\n",
    "print(\"Test Accuracy:\",reg1.score(x_test,y_test))\n",
    "print(\"Train Root Mean squared error:\",mse(y_train, y_pred_train,squared=False))\n",
    "print(\"Test Root Mean squared error:\",mse(y_test, y_pred,squared=False))"
   ]
  },
  {
   "cell_type": "markdown",
   "id": "57f5a0ce",
   "metadata": {},
   "source": [
    "# XGBoost"
   ]
  },
  {
   "cell_type": "code",
   "execution_count": 51,
   "id": "fff871bb",
   "metadata": {},
   "outputs": [
    {
     "name": "stdout",
     "output_type": "stream",
     "text": [
      "xgboost:\n",
      "Train Accuracy: 0.9929153659067582\n",
      "Test Accuracy: 0.9793718876870104\n",
      "Train Root Mean squared error: 0.3954363425916135\n",
      "Test Root Mean squared error: 0.6702087620537718\n"
     ]
    }
   ],
   "source": [
    "import xgboost as xgb\n",
    "regx=xgb.XGBRegressor()\n",
    "regx.fit(x_train,y_train)\n",
    "y_pred_train=regx.predict(x_train)\n",
    "y_pred = regx.predict(x_test)\n",
    "print(\"xgboost:\")\n",
    "print(\"Train Accuracy:\",regx.score(x_train,y_train))\n",
    "print(\"Test Accuracy:\",regx.score(x_test,y_test))\n",
    "print(\"Train Root Mean squared error:\",mse(y_train, y_pred_train,squared=False))\n",
    "print(\"Test Root Mean squared error:\",mse(y_test, y_pred,squared=False))"
   ]
  },
  {
   "cell_type": "markdown",
   "id": "8dad422e",
   "metadata": {},
   "source": [
    "# LightGBM"
   ]
  },
  {
   "cell_type": "code",
   "execution_count": 52,
   "id": "10ac2687",
   "metadata": {},
   "outputs": [
    {
     "name": "stdout",
     "output_type": "stream",
     "text": [
      "lightgbm:\n",
      "Train Accuracy: 0.98635787071663\n",
      "Test Accuracy: 0.9781875449878544\n",
      "Train Root Mean squared error: 0.5487303086597918\n",
      "Test Root Mean squared error: 0.689179946407427\n"
     ]
    }
   ],
   "source": [
    "import lightgbm as lgb\n",
    "gbm = lgb.LGBMRegressor()\n",
    "gbm.fit(x_train,y_train)\n",
    "y_pred_train=gbm.predict(x_train)\n",
    "y_pred = gbm.predict(x_test)\n",
    "print(\"lightgbm:\")\n",
    "print(\"Train Accuracy:\",gbm.score(x_train,y_train))\n",
    "print(\"Test Accuracy:\",gbm.score(x_test,y_test))\n",
    "print(\"Train Root Mean squared error:\",mse(y_train, y_pred_train,squared=False))\n",
    "print(\"Test Root Mean squared error:\",mse(y_test, y_pred,squared=False))"
   ]
  },
  {
   "cell_type": "code",
   "execution_count": 56,
   "id": "29d4c14f",
   "metadata": {},
   "outputs": [],
   "source": [
    "from sklearn.model_selection import RandomizedSearchCV"
   ]
  },
  {
   "cell_type": "code",
   "execution_count": 61,
   "id": "baf85f89",
   "metadata": {},
   "outputs": [],
   "source": [
    "n_estimators = [int(x) for x in np.linspace(100,1200,12)]\n",
    "learning_rate = ['0.05','0.1','0.2','0.3','0.4','0.5','0.6']\n",
    "max_depth = [int(x) for x in np.linspace(5,30,6)]\n",
    "subsample = [0.6,0.7,0.8]\n",
    "min_child_weight = [3,4,5,6,7]"
   ]
  },
  {
   "cell_type": "code",
   "execution_count": 62,
   "id": "579e400a",
   "metadata": {},
   "outputs": [
    {
     "name": "stdout",
     "output_type": "stream",
     "text": [
      "{'n_estimators': [100, 200, 300, 400, 500, 600, 700, 800, 900, 1000, 1100, 1200], 'learning_rate': ['0.05', '0.1', '0.2', '0.3', '0.4', '0.5', '0.6'], 'max_depth': [5, 10, 15, 20, 25, 30], 'subsample': [0.6, 0.7, 0.8], 'min_child_weight': [3, 4, 5, 6, 7]}\n"
     ]
    }
   ],
   "source": [
    "random_grid = {'n_estimators':n_estimators,\n",
    "              'learning_rate':learning_rate,\n",
    "              'max_depth':max_depth,\n",
    "              'subsample':subsample,\n",
    "              'min_child_weight':min_child_weight}\n",
    "print(random_grid)"
   ]
  },
  {
   "cell_type": "code",
   "execution_count": 64,
   "id": "8c3b7000",
   "metadata": {},
   "outputs": [],
   "source": [
    "regressor = xgb.XGBRegressor()"
   ]
  },
  {
   "cell_type": "code",
   "execution_count": 65,
   "id": "2d38e99e",
   "metadata": {},
   "outputs": [],
   "source": [
    "xg_random = RandomizedSearchCV(estimator=regressor,param_distributions=random_grid,scoring='neg_mean_squared_error')"
   ]
  },
  {
   "cell_type": "code",
   "execution_count": 66,
   "id": "f93aecef",
   "metadata": {},
   "outputs": [
    {
     "data": {
      "text/plain": [
       "RandomizedSearchCV(estimator=XGBRegressor(base_score=None, booster=None,\n",
       "                                          colsample_bylevel=None,\n",
       "                                          colsample_bynode=None,\n",
       "                                          colsample_bytree=None, gamma=None,\n",
       "                                          gpu_id=None, importance_type='gain',\n",
       "                                          interaction_constraints=None,\n",
       "                                          learning_rate=None,\n",
       "                                          max_delta_step=None, max_depth=None,\n",
       "                                          min_child_weight=None, missing=nan,\n",
       "                                          monotone_constraints=None,\n",
       "                                          n_estimators=100, n_jobs...\n",
       "                                          scale_pos_weight=None, subsample=None,\n",
       "                                          tree_method=None,\n",
       "                                          validate_parameters=None,\n",
       "                                          verbosity=None),\n",
       "                   param_distributions={'learning_rate': ['0.05', '0.1', '0.2',\n",
       "                                                          '0.3', '0.4', '0.5',\n",
       "                                                          '0.6'],\n",
       "                                        'max_depth': [5, 10, 15, 20, 25, 30],\n",
       "                                        'min_child_weight': [3, 4, 5, 6, 7],\n",
       "                                        'n_estimators': [100, 200, 300, 400,\n",
       "                                                         500, 600, 700, 800,\n",
       "                                                         900, 1000, 1100,\n",
       "                                                         1200],\n",
       "                                        'subsample': [0.6, 0.7, 0.8]},\n",
       "                   scoring='neg_mean_squared_error')"
      ]
     },
     "execution_count": 66,
     "metadata": {},
     "output_type": "execute_result"
    }
   ],
   "source": [
    "xg_random.fit(x_train,y_train)"
   ]
  },
  {
   "cell_type": "code",
   "execution_count": 67,
   "id": "c0419bc5",
   "metadata": {},
   "outputs": [
    {
     "data": {
      "text/plain": [
       "{'subsample': 0.6,\n",
       " 'n_estimators': 700,\n",
       " 'min_child_weight': 7,\n",
       " 'max_depth': 10,\n",
       " 'learning_rate': '0.05'}"
      ]
     },
     "execution_count": 67,
     "metadata": {},
     "output_type": "execute_result"
    }
   ],
   "source": [
    "xg_random.best_params_"
   ]
  },
  {
   "cell_type": "code",
   "execution_count": 68,
   "id": "c3da732a",
   "metadata": {},
   "outputs": [
    {
     "name": "stdout",
     "output_type": "stream",
     "text": [
      "Test Root Mean squared error: 0.6899524273009559\n"
     ]
    }
   ],
   "source": [
    "y_pred = xg_random.predict(x_test)\n",
    "print(\"Test Root Mean squared error:\",mse(y_test, y_pred,squared=False))"
   ]
  },
  {
   "cell_type": "code",
   "execution_count": null,
   "id": "f1425cd6",
   "metadata": {},
   "outputs": [],
   "source": []
  }
 ],
 "metadata": {
  "kernelspec": {
   "display_name": "Python 3",
   "language": "python",
   "name": "python3"
  },
  "language_info": {
   "codemirror_mode": {
    "name": "ipython",
    "version": 3
   },
   "file_extension": ".py",
   "mimetype": "text/x-python",
   "name": "python",
   "nbconvert_exporter": "python",
   "pygments_lexer": "ipython3",
   "version": "3.8.5"
  }
 },
 "nbformat": 4,
 "nbformat_minor": 5
}
